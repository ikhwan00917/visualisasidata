{
 "cells": [
  {
   "cell_type": "code",
   "execution_count": 31,
   "metadata": {},
   "outputs": [],
   "source": [
    "import pandas as pd\n",
    "import plotly.express as px\n",
    "import streamlit as st"
   ]
  },
  {
   "cell_type": "code",
   "execution_count": 32,
   "metadata": {},
   "outputs": [],
   "source": [
    "df = pd.read_excel(r\"C:\\IKHWAN\\Tel U\\SEMESTER 4\\Metode Visualisasi Data\\factbook2.xlsx\")\n"
   ]
  },
  {
   "cell_type": "code",
   "execution_count": 33,
   "metadata": {},
   "outputs": [
    {
     "data": {
      "text/plain": [
       "array(['Country', 'Area', 'Birthrate', 'Currentaccountbalance',\n",
       "       'Deathrate', 'Electricityconsumption', 'Electricityproduction',\n",
       "       'Exports', 'GDP', 'GDPpercapita', 'GDPrealgrowthrate', 'Highways',\n",
       "       'Imports', 'Industrialproductiongrowthrate', 'Infantmortalityrate',\n",
       "       'Inflationrate', 'Internetusers', 'Investment', 'Laborforce',\n",
       "       'Lifeexpectancyatbirth', 'Militaryexpenditures',\n",
       "       'Naturalgasconsumption', 'Oilconsumption', 'Population',\n",
       "       'Publicdebt', 'Railways', 'Reservesofforeignexchange&gold',\n",
       "       'Totalfertilityrate', 'Unemploymentrate'], dtype=object)"
      ]
     },
     "execution_count": 33,
     "metadata": {},
     "output_type": "execute_result"
    }
   ],
   "source": [
    "df.columns.values"
   ]
  },
  {
   "cell_type": "code",
   "execution_count": 34,
   "metadata": {},
   "outputs": [
    {
     "data": {
      "text/plain": [
       "DeltaGenerator(_root_container=0, _provided_cursor=None, _parent=None, _block_type=None, _form_data=None)"
      ]
     },
     "execution_count": 34,
     "metadata": {},
     "output_type": "execute_result"
    }
   ],
   "source": [
    "fig = px.scatter(df, x = \"GDPpercapita\", y = \"Lifeexpectancyatbirth\",\n",
    "            size=\"Population\", color = \"Birthrate\",\n",
    "            hover_name=\"Country\", log_x = True, size_max =60)\n",
    "st.plotly_chart(fig, height = 1000, width = 1200)"
   ]
  }
 ],
 "metadata": {
  "kernelspec": {
   "display_name": "Python 3",
   "language": "python",
   "name": "python3"
  },
  "language_info": {
   "codemirror_mode": {
    "name": "ipython",
    "version": 3
   },
   "file_extension": ".py",
   "mimetype": "text/x-python",
   "name": "python",
   "nbconvert_exporter": "python",
   "pygments_lexer": "ipython3",
   "version": "3.11.2"
  },
  "orig_nbformat": 4
 },
 "nbformat": 4,
 "nbformat_minor": 2
}
